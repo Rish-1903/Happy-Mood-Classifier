{
 "cells": [
  {
   "cell_type": "code",
   "execution_count": 2,
   "id": "89fb4437-ae43-441e-a2cb-db84202d52e7",
   "metadata": {},
   "outputs": [],
   "source": [
    "import math\n",
    "import numpy as np\n",
    "import h5py\n",
    "import matplotlib.pyplot as plt\n",
    "from matplotlib.pyplot import imread\n",
    "import scipy\n",
    "from PIL import Image\n",
    "import pandas as pd\n",
    "import tensorflow as tf\n",
    "from tensorflow.python.framework import ops"
   ]
  },
  {
   "cell_type": "code",
   "execution_count": 3,
   "id": "7f050192-3da6-48db-8bfe-d31de5411914",
   "metadata": {},
   "outputs": [],
   "source": [
    "def load_happy_dataset():\n",
    "    train_dataset = h5py.File('train_happy.h5', \"r\")\n",
    "    train_set_x_orig = np.array(train_dataset[\"train_set_x\"][:]) \n",
    "    train_set_y_orig = np.array(train_dataset[\"train_set_y\"][:]) \n",
    "\n",
    "    test_dataset = h5py.File('test_happy.h5', \"r\")\n",
    "    test_set_x_orig = np.array(test_dataset[\"test_set_x\"][:]) \n",
    "    test_set_y_orig = np.array(test_dataset[\"test_set_y\"][:]) \n",
    "\n",
    "    classes = np.array(test_dataset[\"list_classes\"][:])\n",
    "    \n",
    "    train_set_y_orig = train_set_y_orig.reshape((1, train_set_y_orig.shape[0]))\n",
    "    test_set_y_orig = test_set_y_orig.reshape((1, test_set_y_orig.shape[0]))\n",
    "    \n",
    "    return train_set_x_orig, train_set_y_orig, test_set_x_orig, test_set_y_orig, classes"
   ]
  },
  {
   "cell_type": "code",
   "execution_count": 4,
   "id": "aaa75cfa-8891-4119-a212-f5cbeca28778",
   "metadata": {},
   "outputs": [],
   "source": [
    "X_train,Y_train,X_test,Y_test,classes=load_happy_dataset()"
   ]
  },
  {
   "cell_type": "code",
   "execution_count": 5,
   "id": "ec710fc8-8adc-40f8-94ae-9be86e2769af",
   "metadata": {},
   "outputs": [],
   "source": [
    "X_train=X_train/255\n",
    "X_test=X_test/255\n",
    "Y_train=Y_train.T\n",
    "Y_test=Y_test.T"
   ]
  },
  {
   "cell_type": "code",
   "execution_count": 6,
   "id": "a1a436d4-3389-4cf8-97c4-9d3c63404a0a",
   "metadata": {},
   "outputs": [
    {
     "name": "stdout",
     "output_type": "stream",
     "text": [
      "number of training examples = 600\n",
      "number of test examples = 150\n",
      "X_train shape: (600, 64, 64, 3)\n",
      "Y_train shape: (600, 1)\n",
      "X_test shape: (150, 64, 64, 3)\n",
      "Y_test shape: (150, 1)\n"
     ]
    }
   ],
   "source": [
    "print (\"number of training examples = \" + str(X_train.shape[0]))\n",
    "print (\"number of test examples = \" + str(X_test.shape[0]))\n",
    "print (\"X_train shape: \" + str(X_train.shape))\n",
    "print (\"Y_train shape: \" + str(Y_train.shape))\n",
    "print (\"X_test shape: \" + str(X_test.shape))\n",
    "print (\"Y_test shape: \" + str(Y_test.shape))"
   ]
  },
  {
   "cell_type": "code",
   "execution_count": 7,
   "id": "42d7b13c-7c85-4ed1-8714-c1a81c58d30b",
   "metadata": {},
   "outputs": [
    {
     "data": {
      "text/plain": [
       "<matplotlib.image.AxesImage at 0x2b73b213190>"
      ]
     },
     "execution_count": 7,
     "metadata": {},
     "output_type": "execute_result"
    },
    {
     "data": {
      "image/png": "[encoded data removed]",
      "text/plain": [
       "<Figure size 640x480 with 1 Axes>"
      ]
     },
     "metadata": {},
     "output_type": "display_data"
    }
   ],
   "source": [
    "index=12\n",
    "plt.imshow(X_train[index])"
   ]
  },
  {
   "cell_type": "code",
   "execution_count": 8,
   "id": "0eff8128-85ff-4878-ba08-15dc910fbf35",
   "metadata": {},
   "outputs": [],
   "source": [
    "model=tf.keras.models.Sequential([\n",
    "    tf.keras.layers.ZeroPadding2D(padding=3,input_shape=(64,64,3)),\n",
    "    tf.keras.layers.Conv2D(32,(7,7),strides=(1,1)),\n",
    "    tf.keras.layers.BatchNormalization(axis=3),\n",
    "    tf.keras.layers.ReLU(),\n",
    "    tf.keras.layers.MaxPooling2D(),\n",
    "    tf.keras.layers.Flatten(),\n",
    "    tf.keras.layers.Dense(units=1,activation='sigmoid')\n",
    "])"
   ]
  },
  {
   "cell_type": "code",
   "execution_count": 9,
   "id": "cbdb7b06-5384-4576-bcdf-6e12b86a6606",
   "metadata": {},
   "outputs": [],
   "source": [
    "model.compile(optimizer='adam',loss='binary_crossentropy',metrics=['accuracy'])"
   ]
  },
  {
   "cell_type": "code",
   "execution_count": 10,
   "id": "9bcf89e0-6dda-42a7-bbc0-8a04bfc0922c",
   "metadata": {},
   "outputs": [
    {
     "name": "stdout",
     "output_type": "stream",
     "text": [
      "Model: \"sequential\"\n",
      "_________________________________________________________________\n",
      " Layer (type)                Output Shape              Param #   \n",
      "=================================================================\n",
      " zero_padding2d (ZeroPaddin  (None, 70, 70, 3)         0         \n",
      " g2D)                                                            \n",
      "                                                                 \n",
      " conv2d (Conv2D)             (None, 64, 64, 32)        4736      \n",
      "                                                                 \n",
      " batch_normalization (Batch  (None, 64, 64, 32)        128       \n",
      " Normalization)                                                  \n",
      "                                                                 \n",
      " re_lu (ReLU)                (None, 64, 64, 32)        0         \n",
      "                                                                 \n",
      " max_pooling2d (MaxPooling2  (None, 32, 32, 32)        0         \n",
      " D)                                                              \n",
      "                                                                 \n",
      " flatten (Flatten)           (None, 32768)             0         \n",
      "                                                                 \n",
      " dense (Dense)               (None, 1)                 32769     \n",
      "                                                                 \n",
      "=================================================================\n",
      "Total params: 37633 (147.00 KB)\n",
      "Trainable params: 37569 (146.75 KB)\n",
      "Non-trainable params: 64 (256.00 Byte)\n",
      "_________________________________________________________________\n"
     ]
    }
   ],
   "source": [
    "model.summary()"
   ]
  },
  {
   "cell_type": "code",
   "execution_count": 11,
   "id": "a1529500-55d8-4d5e-b9f9-ef07c3e70a3c",
   "metadata": {},
   "outputs": [
    {
     "name": "stdout",
     "output_type": "stream",
     "text": [
      "Epoch 1/50\n",
      "38/38 [==============================] - 3s 61ms/step - loss: 0.5514 - accuracy: 0.7967\n",
      "Epoch 2/50\n",
      "38/38 [==============================] - 2s 48ms/step - loss: 0.2253 - accuracy: 0.9067\n",
      "Epoch 3/50\n",
      "38/38 [==============================] - 2s 53ms/step - loss: 0.1099 - accuracy: 0.9633\n",
      "Epoch 4/50\n",
      "38/38 [==============================] - 2s 65ms/step - loss: 0.2749 - accuracy: 0.9133\n",
      "Epoch 5/50\n",
      "38/38 [==============================] - 2s 63ms/step - loss: 0.1423 - accuracy: 0.9467\n",
      "Epoch 6/50\n",
      "38/38 [==============================] - 2s 57ms/step - loss: 0.1010 - accuracy: 0.9683\n",
      "Epoch 7/50\n",
      "38/38 [==============================] - 2s 59ms/step - loss: 0.1017 - accuracy: 0.9650\n",
      "Epoch 8/50\n",
      "38/38 [==============================] - 2s 61ms/step - loss: 0.0699 - accuracy: 0.9783\n",
      "Epoch 9/50\n",
      "38/38 [==============================] - 2s 54ms/step - loss: 0.0776 - accuracy: 0.9683\n",
      "Epoch 10/50\n",
      "38/38 [==============================] - 2s 56ms/step - loss: 0.0609 - accuracy: 0.9817\n",
      "Epoch 11/50\n",
      "38/38 [==============================] - 2s 58ms/step - loss: 0.0626 - accuracy: 0.9800\n",
      "Epoch 12/50\n",
      "38/38 [==============================] - 2s 56ms/step - loss: 0.0849 - accuracy: 0.9700\n",
      "Epoch 13/50\n",
      "38/38 [==============================] - 2s 55ms/step - loss: 0.2777 - accuracy: 0.9183\n",
      "Epoch 14/50\n",
      "38/38 [==============================] - 2s 54ms/step - loss: 0.1831 - accuracy: 0.9300\n",
      "Epoch 15/50\n",
      "38/38 [==============================] - 2s 58ms/step - loss: 0.0863 - accuracy: 0.9650\n",
      "Epoch 16/50\n",
      "38/38 [==============================] - 2s 55ms/step - loss: 0.0772 - accuracy: 0.9767\n",
      "Epoch 17/50\n",
      "38/38 [==============================] - 2s 58ms/step - loss: 0.0728 - accuracy: 0.9767\n",
      "Epoch 18/50\n",
      "38/38 [==============================] - 2s 55ms/step - loss: 0.0858 - accuracy: 0.9800\n",
      "Epoch 19/50\n",
      "38/38 [==============================] - 2s 57ms/step - loss: 0.0982 - accuracy: 0.9617\n",
      "Epoch 20/50\n",
      "38/38 [==============================] - 2s 56ms/step - loss: 0.0671 - accuracy: 0.9850\n",
      "Epoch 21/50\n",
      "38/38 [==============================] - 2s 53ms/step - loss: 0.0491 - accuracy: 0.9833\n",
      "Epoch 22/50\n",
      "38/38 [==============================] - 2s 55ms/step - loss: 0.0535 - accuracy: 0.9833\n",
      "Epoch 23/50\n",
      "38/38 [==============================] - 2s 54ms/step - loss: 0.0774 - accuracy: 0.9717\n",
      "Epoch 24/50\n",
      "38/38 [==============================] - 2s 53ms/step - loss: 0.0357 - accuracy: 0.9917\n",
      "Epoch 25/50\n",
      "38/38 [==============================] - 2s 55ms/step - loss: 0.0892 - accuracy: 0.9700\n",
      "Epoch 26/50\n",
      "38/38 [==============================] - 2s 53ms/step - loss: 0.0446 - accuracy: 0.9783\n",
      "Epoch 27/50\n",
      "38/38 [==============================] - 2s 55ms/step - loss: 0.0509 - accuracy: 0.9833\n",
      "Epoch 28/50\n",
      "38/38 [==============================] - 2s 58ms/step - loss: 0.0368 - accuracy: 0.9900\n",
      "Epoch 29/50\n",
      "38/38 [==============================] - 2s 61ms/step - loss: 0.0604 - accuracy: 0.9800\n",
      "Epoch 30/50\n",
      "38/38 [==============================] - 2s 63ms/step - loss: 0.0479 - accuracy: 0.9850\n",
      "Epoch 31/50\n",
      "38/38 [==============================] - 3s 67ms/step - loss: 0.0666 - accuracy: 0.9833\n",
      "Epoch 32/50\n",
      "38/38 [==============================] - 3s 68ms/step - loss: 0.0917 - accuracy: 0.9700\n",
      "Epoch 33/50\n",
      "38/38 [==============================] - 3s 67ms/step - loss: 0.0275 - accuracy: 0.9917\n",
      "Epoch 34/50\n",
      "38/38 [==============================] - 2s 62ms/step - loss: 0.0317 - accuracy: 0.9850\n",
      "Epoch 35/50\n",
      "38/38 [==============================] - 2s 62ms/step - loss: 0.0740 - accuracy: 0.9750\n",
      "Epoch 36/50\n",
      "38/38 [==============================] - 2s 63ms/step - loss: 0.1004 - accuracy: 0.9683\n",
      "Epoch 37/50\n",
      "38/38 [==============================] - 2s 63ms/step - loss: 0.0512 - accuracy: 0.9817\n",
      "Epoch 38/50\n",
      "38/38 [==============================] - 3s 67ms/step - loss: 0.0610 - accuracy: 0.9800\n",
      "Epoch 39/50\n",
      "38/38 [==============================] - 3s 68ms/step - loss: 0.2141 - accuracy: 0.9433\n",
      "Epoch 40/50\n",
      "38/38 [==============================] - 3s 69ms/step - loss: 0.0272 - accuracy: 0.9883\n",
      "Epoch 41/50\n",
      "38/38 [==============================] - 3s 71ms/step - loss: 0.0758 - accuracy: 0.9767\n",
      "Epoch 42/50\n",
      "38/38 [==============================] - 3s 68ms/step - loss: 0.0583 - accuracy: 0.9800\n",
      "Epoch 43/50\n",
      "38/38 [==============================] - 3s 67ms/step - loss: 0.0461 - accuracy: 0.9883\n",
      "Epoch 44/50\n",
      "38/38 [==============================] - 3s 70ms/step - loss: 0.0191 - accuracy: 0.9933\n",
      "Epoch 45/50\n",
      "38/38 [==============================] - 3s 67ms/step - loss: 0.0801 - accuracy: 0.9733\n",
      "Epoch 46/50\n",
      "38/38 [==============================] - 3s 73ms/step - loss: 0.1017 - accuracy: 0.9683\n",
      "Epoch 47/50\n",
      "38/38 [==============================] - 3s 74ms/step - loss: 0.0360 - accuracy: 0.9850\n",
      "Epoch 48/50\n",
      "38/38 [==============================] - 3s 80ms/step - loss: 0.0984 - accuracy: 0.9750\n",
      "Epoch 49/50\n",
      "38/38 [==============================] - 3s 73ms/step - loss: 0.0261 - accuracy: 0.9900\n",
      "Epoch 50/50\n",
      "38/38 [==============================] - 2s 65ms/step - loss: 0.1028 - accuracy: 0.9767\n"
     ]
    },
    {
     "data": {
      "text/plain": [
       "<keras.src.callbacks.History at 0x2b73ae33b90>"
      ]
     },
     "execution_count": 11,
     "metadata": {},
     "output_type": "execute_result"
    }
   ],
   "source": [
    "model.fit(X_train,Y_train,epochs=50,batch_size=16)"
   ]
  },
  {
   "cell_type": "code",
   "execution_count": 12,
   "id": "29240776-9ce1-4517-a88a-91cc2406bdb7",
   "metadata": {},
   "outputs": [
    {
     "name": "stdout",
     "output_type": "stream",
     "text": [
      "5/5 [==============================] - 0s 32ms/step - loss: 0.1433 - accuracy: 0.9400\n"
     ]
    },
    {
     "data": {
      "text/plain": [
       "[0.14327149093151093, 0.9399999976158142]"
      ]
     },
     "execution_count": 12,
     "metadata": {},
     "output_type": "execute_result"
    }
   ],
   "source": [
    "model.evaluate(X_test, Y_test)"
   ]
  },
  {
   "cell_type": "code",
   "execution_count": 13,
   "id": "70f8a7cd-3109-4598-8f14-13b4b6dc85d6",
   "metadata": {},
   "outputs": [
    {
     "name": "stdout",
     "output_type": "stream",
     "text": [
      "5/5 [==============================] - 0s 30ms/step\n",
      "[[1.0000000e+00]\n",
      " [9.9999619e-01]\n",
      " [1.0000000e+00]\n",
      " [1.0000000e+00]\n",
      " [1.6553733e-01]\n",
      " [9.9995023e-01]\n",
      " [9.9969476e-01]\n",
      " [4.0064619e-06]\n",
      " [1.0000000e+00]\n",
      " [7.7196893e-07]\n",
      " [9.9996173e-01]\n",
      " [1.5413130e-05]\n",
      " [7.9483968e-01]\n",
      " [5.5012748e-02]\n",
      " [3.1714278e-06]\n",
      " [9.9886370e-01]\n",
      " [3.9499454e-10]\n",
      " [9.9999958e-01]\n",
      " [6.4269251e-08]\n",
      " [1.0000000e+00]\n",
      " [9.9987948e-01]\n",
      " [9.9999845e-01]\n",
      " [4.1808948e-02]\n",
      " [1.0000000e+00]\n",
      " [2.6612444e-08]\n",
      " [1.9607826e-07]\n",
      " [9.7150624e-01]\n",
      " [3.2577451e-04]\n",
      " [1.5988125e-01]\n",
      " [1.0000000e+00]\n",
      " [9.9998510e-01]\n",
      " [1.0000000e+00]\n",
      " [9.9915123e-01]\n",
      " [1.0000000e+00]\n",
      " [1.0000000e+00]\n",
      " [1.0000000e+00]\n",
      " [3.1488180e-02]\n",
      " [7.7868290e-06]\n",
      " [1.1229733e-03]\n",
      " [4.0882352e-07]\n",
      " [2.9628637e-01]\n",
      " [8.4857885e-07]\n",
      " [1.1566065e-04]\n",
      " [1.7698910e-06]\n",
      " [1.0000000e+00]\n",
      " [1.1808811e-07]\n",
      " [2.8987532e-09]\n",
      " [1.2945945e-08]\n",
      " [9.9999315e-01]\n",
      " [4.8825626e-08]\n",
      " [5.4645927e-08]\n",
      " [6.2775339e-06]\n",
      " [8.7349463e-01]\n",
      " [8.3413655e-01]\n",
      " [4.0475893e-06]\n",
      " [9.9999964e-01]\n",
      " [9.9999958e-01]\n",
      " [6.1593533e-01]\n",
      " [1.0000000e+00]\n",
      " [1.0000000e+00]\n",
      " [1.9136921e-02]\n",
      " [9.9999982e-01]\n",
      " [1.2234406e-01]\n",
      " [2.9456583e-01]\n",
      " [1.0000000e+00]\n",
      " [3.3397928e-02]\n",
      " [7.2989053e-01]\n",
      " [9.9995357e-01]\n",
      " [9.9997818e-01]\n",
      " [1.0000000e+00]\n",
      " [1.0000000e+00]\n",
      " [5.8128362e-06]\n",
      " [6.5089844e-05]\n",
      " [2.0280094e-03]\n",
      " [3.6628509e-04]\n",
      " [9.9990064e-01]\n",
      " [9.5675308e-01]\n",
      " [1.6806171e-08]\n",
      " [2.5455955e-02]\n",
      " [1.0000000e+00]\n",
      " [6.9433922e-06]\n",
      " [1.0000000e+00]\n",
      " [2.1193628e-04]\n",
      " [1.0000000e+00]\n",
      " [8.4119197e-03]\n",
      " [1.0000000e+00]\n",
      " [9.9999785e-01]\n",
      " [1.6139982e-05]\n",
      " [1.4110188e-06]\n",
      " [1.0000000e+00]\n",
      " [9.4125069e-05]\n",
      " [2.3538869e-06]\n",
      " [3.0400578e-04]\n",
      " [7.6921322e-05]\n",
      " [9.9999911e-01]\n",
      " [1.1427034e-01]\n",
      " [9.9999517e-01]\n",
      " [1.4534788e-06]\n",
      " [1.0000000e+00]\n",
      " [9.9305087e-01]\n",
      " [1.0000000e+00]\n",
      " [1.7033713e-05]\n",
      " [1.0000000e+00]\n",
      " [4.2361926e-06]\n",
      " [1.4371479e-04]\n",
      " [2.0664047e-04]\n",
      " [2.4751915e-07]\n",
      " [9.9999976e-01]\n",
      " [3.5518802e-05]\n",
      " [1.4560871e-06]\n",
      " [1.0000000e+00]\n",
      " [1.0000000e+00]\n",
      " [5.3492482e-07]\n",
      " [3.7027542e-03]\n",
      " [1.0000000e+00]\n",
      " [9.9999863e-01]\n",
      " [6.9986638e-03]\n",
      " [2.5262349e-04]\n",
      " [1.0000000e+00]\n",
      " [2.6523165e-07]\n",
      " [9.9638045e-01]\n",
      " [1.0000000e+00]\n",
      " [2.5231794e-03]\n",
      " [1.0000000e+00]\n",
      " [4.6398890e-01]\n",
      " [9.9853063e-01]\n",
      " [4.0036466e-06]\n",
      " [9.9999982e-01]\n",
      " [9.9983102e-01]\n",
      " [7.7393781e-07]\n",
      " [1.0000000e+00]\n",
      " [1.0000000e+00]\n",
      " [1.3500583e-08]\n",
      " [1.0000000e+00]\n",
      " [9.9986243e-01]\n",
      " [1.0000000e+00]\n",
      " [1.0023432e-02]\n",
      " [9.8393303e-01]\n",
      " [1.9337965e-02]\n",
      " [1.0000000e+00]\n",
      " [9.9996364e-01]\n",
      " [9.9999487e-01]\n",
      " [2.1372553e-05]\n",
      " [6.7974627e-01]\n",
      " [1.4802891e-04]\n",
      " [1.1670828e-01]\n",
      " [2.3181981e-06]\n",
      " [9.9999869e-01]\n",
      " [1.0000000e+00]\n",
      " [6.5499456e-03]]\n",
      "0.516188\n"
     ]
    }
   ],
   "source": [
    "predictions = model.predict(X_test)\n",
    "print(predictions)\n",
    "print(np.mean(predictions))"
   ]
  },
  {
   "cell_type": "code",
   "execution_count": 20,
   "id": "b0989367-8a4a-436e-85da-65f2488b8d1f",
   "metadata": {},
   "outputs": [
    {
     "data": {
      "image/png": "[encoded data removed]",
      "text/plain": [
       "<Figure size 640x480 with 1 Axes>"
      ]
     },
     "metadata": {},
     "output_type": "display_data"
    }
   ],
   "source": [
    "index=18\n",
    "plt.imshow(X_test[index])\n",
    "plt.title(f'Predicted mood: {\"Happy\" if predictions[index][0] > 0.516188 else \"Not Happy\"}')\n",
    "plt.show()"
   ]
  },
  {
   "cell_type": "code",
   "execution_count": null,
   "id": "b0619902-93a7-47f3-809a-2de947d5f8da",
   "metadata": {},
   "outputs": [],
   "source": []
  },
  {
   "cell_type": "code",
   "execution_count": null,
   "id": "a0635720-fa8b-48be-aefd-56c944a8562b",
   "metadata": {},
   "outputs": [],
   "source": []
  },
  {
   "cell_type": "code",
   "execution_count": null,
   "id": "14204c07-d076-4cee-bdbf-3687ad0bda5b",
   "metadata": {},
   "outputs": [],
   "source": []
  },
  {
   "cell_type": "code",
   "execution_count": null,
   "id": "f1735617-4e3e-486d-8ce4-f12e4b6ad2d0",
   "metadata": {},
   "outputs": [],
   "source": []
  }
 ],
 "metadata": {
  "kernelspec": {
   "display_name": "Python 3 (ipykernel)",
   "language": "python",
   "name": "python3"
  },
  "language_info": {
   "codemirror_mode": {
    "name": "ipython",
    "version": 3
   },
   "file_extension": ".py",
   "mimetype": "text/x-python",
   "name": "python",
   "nbconvert_exporter": "python",
   "pygments_lexer": "ipython3",
   "version": "3.11.4"
  }
 },
 "nbformat": 4,
 "nbformat_minor": 5
}
